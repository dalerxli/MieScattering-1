{
 "cells": [
  {
   "cell_type": "markdown",
   "metadata": {},
   "source": [
    "# Scattering of a Silicon nanoparticle\n",
    "\n",
    "Nuno de Sousa  \n",
    "Mole Group  \n",
    "April 2020"
   ]
  },
  {
   "cell_type": "code",
   "execution_count": 1,
   "metadata": {},
   "outputs": [],
   "source": [
    "%matplotlib notebook  \n",
    "import numpy as np\n",
    "import matplotlib.pyplot as plt\n",
    "import matplotlib.cm as cm\n",
    "from mpl_toolkits.axes_grid1 import make_axes_locatable\n",
    "import sys\n",
    "\n",
    "np.seterr(divide='ignore', invalid='ignore')\n",
    "\n",
    "from mole_mie.MieScatt import MieScatt\n",
    "from mole_mie.Materials import Materials\n",
    "from mole_mie.MieScatt import MappingSpace"
   ]
  },
  {
   "cell_type": "code",
   "execution_count": 2,
   "metadata": {},
   "outputs": [
    {
     "data": {
      "text/plain": [
       "'0.1.4.8'"
      ]
     },
     "execution_count": 2,
     "metadata": {},
     "output_type": "execute_result"
    }
   ],
   "source": [
    "from mole_mie.MieScatt import MieScatt\n",
    "MieScatt.__version__"
   ]
  },
  {
   "cell_type": "code",
   "execution_count": 3,
   "metadata": {},
   "outputs": [],
   "source": [
    "wavelength_start = 1000  # wavelength range lower limit\n",
    "wavelength_end = 2000  # wavelength range upper limit\n",
    "wavelength_steps = 500\n",
    "wavelength_list = np.arange(wavelength_start, wavelength_end,\n",
    "                            (wavelength_end - wavelength_start) / wavelength_steps)\n",
    "\n",
    "radius = 230\n",
    "medium_ref_index = 1\n",
    "N_multipoles = 10"
   ]
  },
  {
   "cell_type": "code",
   "execution_count": 4,
   "metadata": {},
   "outputs": [
    {
     "name": "stdout",
     "output_type": "stream",
     "text": [
      "You have loaded the magic 'Si de palo', i.e. wood silicon.\n",
      "Downloading data from:\n",
      "https://refractiveindex.info/tmp/data/main/Si/Green-2008.csv\n",
      "Data Loaded.\n"
     ]
    }
   ],
   "source": [
    "# different ways of call materials. In this example we are going to use the first one, Si_palo\n",
    "Si = Materials('Si_palo')\n",
    "Si1 = Materials('Si1', source='constant', value = 3.5+0j)\n",
    "Si2 = Materials('Si2', source='refractiveindex.info', path = 'https://refractiveindex.info/tmp/data/main/Si/Green-2008.csv')"
   ]
  },
  {
   "cell_type": "code",
   "execution_count": 5,
   "metadata": {},
   "outputs": [
    {
     "name": "stdout",
     "output_type": "stream",
     "text": [
      "\u001b[34m__________________________________________________________________________________________________\u001b[0m\n",
      "\u001b[34mMie Scattering program Initiated.\n",
      "\u001b[0m\n",
      "You are using \u001b[31mMoLE_Mie\u001b[0m. Please cite the following:\n",
      "* N. de Sousa, J.J. Saénz, \"The title of the paper\".\n",
      "\n",
      "If you use the pre-loaded database, please cite:\n",
      "* M.N.Polyanskiy, \"Refractive index database,\" https: // refractiveindex.info. Accessed on 2019-10-04.\n",
      "Version 0.1.4.8 dark ingrown toenail\n",
      "\u001b[34m__________________________________________________________________________________________________\u001b[0m\n",
      "Loaded Parameters for Si\n",
      "radius =  230 (m)\n",
      "refractive index of the medium =  1\n",
      "Number of multipoles =  10\n"
     ]
    }
   ],
   "source": [
    "mie = MieScatt()\n",
    "mie.set_params(radius=radius, medium_ref_index=medium_ref_index, N_multipoles=N_multipoles)\n",
    "mie.scan_cross_sections(wavelength_list, Si1)"
   ]
  },
  {
   "cell_type": "code",
   "execution_count": 6,
   "metadata": {},
   "outputs": [],
   "source": [
    "maps = MappingSpace()\n",
    "maps.mesh_gen(xmin=-500, xmax=500, xstep=10, ymin=-500, ymax=500, ystep=10, plane='xz')\n",
    "maps.convert_cartesian_to_spherical()"
   ]
  },
  {
   "cell_type": "code",
   "execution_count": 7,
   "metadata": {},
   "outputs": [
    {
     "data": {
      "text/plain": [
       "array([[707.10678119,   2.35619449,   3.14159265],\n",
       "       [700.07142493,   2.36629516,   3.14159265],\n",
       "       [693.10893805,   2.37659982,   3.14159265],\n",
       "       ...,\n",
       "       [693.10893805,   0.76499283,   0.        ],\n",
       "       [700.07142493,   0.7752975 ,   0.        ],\n",
       "       [707.10678119,   0.78539816,   0.        ]])"
      ]
     },
     "execution_count": 7,
     "metadata": {},
     "output_type": "execute_result"
    }
   ],
   "source": [
    "# An example of the coordinates:\n",
    "maps.points"
   ]
  },
  {
   "cell_type": "code",
   "execution_count": 8,
   "metadata": {},
   "outputs": [
    {
     "ename": "TypeError",
     "evalue": "only integer scalar arrays can be converted to a scalar index",
     "output_type": "error",
     "traceback": [
      "\u001b[0;31m---------------------------------------------------------------------------\u001b[0m",
      "\u001b[0;31mTypeError\u001b[0m                                 Traceback (most recent call last)",
      "\u001b[0;32m<ipython-input-8-218e45687941>\u001b[0m in \u001b[0;36m<module>\u001b[0;34m\u001b[0m\n\u001b[1;32m     12\u001b[0m  \"\"\"\n\u001b[1;32m     13\u001b[0m \u001b[0;34m\u001b[0m\u001b[0m\n\u001b[0;32m---> 14\u001b[0;31m \u001b[0mmie\u001b[0m\u001b[0;34m.\u001b[0m\u001b[0mcompute_fields\u001b[0m\u001b[0;34m(\u001b[0m\u001b[0;36m1126.33\u001b[0m\u001b[0;34m,\u001b[0m \u001b[0mSi1\u001b[0m\u001b[0;34m,\u001b[0m \u001b[0;36m1\u001b[0m\u001b[0;34m,\u001b[0m \u001b[0mmaps\u001b[0m\u001b[0;34m.\u001b[0m\u001b[0mpoints\u001b[0m\u001b[0;34m,\u001b[0m \u001b[0mcomponents\u001b[0m \u001b[0;34m=\u001b[0m \u001b[0;34m'EH'\u001b[0m\u001b[0;34m,\u001b[0m \u001b[0mrat\u001b[0m \u001b[0;34m=\u001b[0m \u001b[0;34m'Scatt'\u001b[0m\u001b[0;34m)\u001b[0m\u001b[0;34m\u001b[0m\u001b[0;34m\u001b[0m\u001b[0m\n\u001b[0m\u001b[1;32m     15\u001b[0m \u001b[0mmie\u001b[0m\u001b[0;34m.\u001b[0m\u001b[0mabs_fields\u001b[0m\u001b[0;34m(\u001b[0m\u001b[0;34m)\u001b[0m\u001b[0;34m\u001b[0m\u001b[0;34m\u001b[0m\u001b[0m\n",
      "\u001b[0;32m~/anaconda3/envs/physics/lib/python3.7/site-packages/mole_mie/MieScatt.py\u001b[0m in \u001b[0;36mcompute_fields\u001b[0;34m(self, wavelength, material, mp, points, components, rat)\u001b[0m\n\u001b[1;32m    339\u001b[0m                 \u001b[0mpoint_field\u001b[0m \u001b[0;34m=\u001b[0m \u001b[0mnp\u001b[0m\u001b[0;34m.\u001b[0m\u001b[0mzeros\u001b[0m\u001b[0;34m(\u001b[0m\u001b[0;36m3\u001b[0m\u001b[0;34m)\u001b[0m\u001b[0;34m\u001b[0m\u001b[0;34m\u001b[0m\u001b[0m\n\u001b[1;32m    340\u001b[0m                 \u001b[0;32mif\u001b[0m \u001b[0;34m(\u001b[0m\u001b[0mpoint\u001b[0m\u001b[0;34m[\u001b[0m\u001b[0;36m0\u001b[0m\u001b[0;34m]\u001b[0m \u001b[0;34m>\u001b[0m \u001b[0mradius\u001b[0m\u001b[0;34m)\u001b[0m\u001b[0;34m:\u001b[0m\u001b[0;34m\u001b[0m\u001b[0;34m\u001b[0m\u001b[0m\n\u001b[0;32m--> 341\u001b[0;31m                     \u001b[0;32mfor\u001b[0m \u001b[0mn\u001b[0m \u001b[0;32min\u001b[0m \u001b[0mrange\u001b[0m\u001b[0;34m(\u001b[0m\u001b[0;36m1\u001b[0m\u001b[0;34m,\u001b[0m \u001b[0mmp\u001b[0m \u001b[0;34m+\u001b[0m \u001b[0;36m1\u001b[0m\u001b[0;34m)\u001b[0m\u001b[0;34m:\u001b[0m\u001b[0;34m\u001b[0m\u001b[0;34m\u001b[0m\u001b[0m\n\u001b[0m\u001b[1;32m    342\u001b[0m                         point_field = point_field + (En(n) * (\n\u001b[1;32m    343\u001b[0m                                     1j * np.multiply(an[n - 1], self.Ne1n(n, point, k)) - np.multiply(bn[n - 1],\n",
      "\u001b[0;31mTypeError\u001b[0m: only integer scalar arrays can be converted to a scalar index"
     ]
    }
   ],
   "source": [
    "\"\"\" - wavelength\n",
    " - Material\n",
    " - Number of Multipoles\n",
    " - points to compute the field is spherical coordinates\n",
    " - components (Electric, Magnetic or Electric and Magnetic)\n",
    " - rat (Scattered or Full field)\n",
    "\n",
    " 'components' parameter defines the element of the electromagnetic field to be computed.\n",
    " It accept the values 'E' - electric field, 'H' - Magnetic Field and 'EH' -  Electric and Magnetic Field\n",
    " \"rat\" parameter accepts 'Scatt' or 'Full'. It computes the scattered or the full field, considering the plane wave\n",
    " Results are stored inside the object in variables: E_scatt_int, H_scatt_int, E_total, H_total\n",
    " \"\"\"\n",
    "\n",
    "mie.compute_fields(1126.33, Si1, 1, maps.points, components = 'EH', rat = 'Scatt')\n",
    "mie.abs_fields()"
   ]
  },
  {
   "cell_type": "code",
   "execution_count": null,
   "metadata": {},
   "outputs": [],
   "source": [
    "fig, ax = plt.subplots(figsize = (8,8))\n",
    "\n",
    "#z = np.real(Escatt.reshape(101,101).T)\n",
    "z = np.real(mie.E_scatt_int_abs.reshape(101,101))\n",
    "im = ax.imshow(z, cmap=cm.jet, interpolation='bilinear', extent = [-500,500,-500,500], vmin = 0, vmax =9, origin = 'lower')\n",
    "#ax.contour(z, levels = 10, colors='blue', linewidths = 0.5, origin='lower', extent=[-1000,1000,-1000,1000])\n",
    "ax.set_xlabel('x', fontsize = 16)\n",
    "ax.set_ylabel('z', fontsize = 16)\n",
    "plt.tick_params('both', labelsize = 13)\n",
    "#fig.colorbar(im, ax = ax)\n",
    "divider = make_axes_locatable(ax)\n",
    "cax = divider.append_axes(\"right\", size=\"5%\", pad=0.05)\n",
    "plt.colorbar(im, cax=cax)\n",
    "\n",
    "circle = plt.Circle((0, 0), 230, color='black', clip_on=False, fill = False, linewidth = 3)\n",
    "#circle = plt.Circle((0, 0), 230, color='black', clip_on=False, fill = True)\n",
    "ax.add_artist(circle)\n",
    "\n",
    "fig, ax = plt.subplots(figsize = (8,8))\n",
    "\n",
    "#z = np.real(Escatt.reshape(101,101).T)\n",
    "z = np.real(mie.H_scatt_int_abs.reshape(101,101))\n",
    "im = ax.imshow(z, cmap=cm.jet, interpolation='bilinear', extent = [-500,500,-500,500], vmin = 0, vmax =6E-3, origin = 'lower')\n",
    "#ax.contour(z, levels = 10, colors='blue', linewidths = 0.5, origin='lower', extent=[-1000,1000,-1000,1000])\n",
    "ax.set_xlabel('x', fontsize = 16)\n",
    "ax.set_ylabel('z', fontsize = 16)\n",
    "plt.tick_params('both', labelsize = 13)\n",
    "#fig.colorbar(im, ax = ax)\n",
    "divider = make_axes_locatable(ax)\n",
    "cax = divider.append_axes(\"right\", size=\"5%\", pad=0.05)\n",
    "plt.colorbar(im, cax=cax)\n",
    "\n",
    "circle = plt.Circle((0, 0), 230, color='black', clip_on=False, fill = False, linewidth = 3)\n",
    "#circle = plt.Circle((0, 0), 230, color='black', clip_on=False, fill = True)\n",
    "ax.add_artist(circle)"
   ]
  },
  {
   "cell_type": "code",
   "execution_count": null,
   "metadata": {},
   "outputs": [],
   "source": [
    "fig, ax = plt.subplots(figsize = (9, 5.5))\n",
    "\n",
    "ax.plot(mie.cross_sections.index,mie.cross_sections['Qabs'], label='$Q_{abs}$')\n",
    "ax.plot(1280, 4.638582, marker = 'x', color = 'black')\n",
    "ax.plot(1680, 8.105445, marker = 'x', color = 'black')\n",
    "ax.plot(1162, 6.464978, marker = 'x', color = 'black')\n",
    "ax.plot(mie.cross_sections.index,mie.cross_sections['Qext'], label='$Q_{ext}$')\n",
    "ax.plot(mie.cross_sections.index,mie.cross_sections['Qscat'], label='$Q_{scat}$', linestyle=':')\n",
    "ax.plot(mie.expanded_Qext.index,mie.expanded_Qext['Qext_a1'], label='$Q_{ext, a1}$')\n",
    "ax.plot(mie.expanded_Qext.index,mie.expanded_Qext['Qext_b1'], label='$Q_{ext, b1}$')\n",
    "ax.plot(mie.expanded_Qext.index,mie.expanded_Qext['Qext_b2'], label='$Q_{ext, b2}$')\n",
    "ax.set_xlabel('$\\lambda$ (nm)', fontsize=16)\n",
    "ax.set_ylabel('Q', fontsize=16)\n",
    "ax.tick_params(axis='both', which='major', labelsize=13)\n",
    "ax.tick_params(axis='both', which='minor', labelsize=13)\n",
    "plt.legend(fontsize=13)\n",
    "#plt.title('Cross Sections', fontsize=14)\n",
    "plt.xlim(1000, 2000)\n",
    "plt.text(1255,3.7, '1280', fontsize = 12)\n",
    "plt.text(1650,6, '1680', fontsize = 12)\n",
    "plt.text(1070,6.3, '1162', fontsize = 12)\n",
    "plt.savefig('Cross_Sections.png', dpi = 300, transparent = True)"
   ]
  },
  {
   "cell_type": "code",
   "execution_count": null,
   "metadata": {},
   "outputs": [],
   "source": [
    "fig, ax = plt.subplots(nrows = 4, figsize = (9, 11), sharex = True)\n",
    "\n",
    "ax[0].plot(mie.coeffs.index, np.real(mie.coeffs['a1'].to_numpy()), label = 'a1.re')\n",
    "ax[0].plot(mie.coeffs.index, np.real(mie.coeffs['a2'].to_numpy()), label = 'a2.re')\n",
    "ax[0].plot(mie.coeffs.index, np.real(mie.coeffs['b1'].to_numpy()), label = 'b1.re')\n",
    "ax[0].plot(mie.coeffs.index, np.real(mie.coeffs['b2'].to_numpy()), label = 'b2.re')\n",
    "ax[1].plot(mie.coeffs.index, np.real(mie.coeffs['c1'].to_numpy()), label = 'c1.re')\n",
    "ax[1].plot(mie.coeffs.index, np.real(mie.coeffs['c2'].to_numpy()), label = 'c2.re')\n",
    "ax[1].plot(mie.coeffs.index, np.real(mie.coeffs['d1'].to_numpy()), label = 'd1.re')\n",
    "ax[1].plot(mie.coeffs.index, np.real(mie.coeffs['d2'].to_numpy()), label = 'd2.re')\n",
    "ax[2].plot(mie.coeffs.index, np.imag(mie.coeffs['a1'].to_numpy()), label = 'a1.im')\n",
    "ax[2].plot(mie.coeffs.index, np.imag(mie.coeffs['a2'].to_numpy()), label = 'a2.im')\n",
    "ax[2].plot(mie.coeffs.index, np.imag(mie.coeffs['b1'].to_numpy()), label = 'b1.im')\n",
    "ax[2].plot(mie.coeffs.index, np.imag(mie.coeffs['b2'].to_numpy()), label = 'b2.im')\n",
    "ax[3].plot(mie.coeffs.index, np.imag(mie.coeffs['c1'].to_numpy()), label = 'c1.im')\n",
    "ax[3].plot(mie.coeffs.index, np.imag(mie.coeffs['c2'].to_numpy()), label = 'c2.im')\n",
    "ax[3].plot(mie.coeffs.index, np.imag(mie.coeffs['d1'].to_numpy()), label = 'd1.im')\n",
    "ax[3].plot(mie.coeffs.index, np.imag(mie.coeffs['d2'].to_numpy()), label = 'd2.im')\n",
    "ax[0].legend()\n",
    "ax[1].legend()\n",
    "ax[2].legend()\n",
    "ax[3].legend()\n",
    "\n",
    "ax[3].set_xlabel('$\\lambda$ (nm)', fontsize=16)\n",
    "ax[0].set_ylabel('', fontsize=16)\n",
    "ax[1].set_ylabel('', fontsize=16)\n",
    "ax[2].set_ylabel('', fontsize=16)\n",
    "ax[3].set_ylabel('', fontsize=16)\n",
    "\n",
    "ax[0].tick_params(axis='both', which='major', labelsize=13)\n",
    "ax[1].tick_params(axis='both', which='major', labelsize=13)\n",
    "ax[2].tick_params(axis='both', which='major', labelsize=13)\n",
    "ax[3].tick_params(axis='both', which='major', labelsize=13)\n",
    "plt.subplots_adjust(hspace=0.)"
   ]
  }
 ],
 "metadata": {
  "kernelspec": {
   "display_name": "Python 3",
   "language": "python",
   "name": "python3"
  },
  "language_info": {
   "codemirror_mode": {
    "name": "ipython",
    "version": 3
   },
   "file_extension": ".py",
   "mimetype": "text/x-python",
   "name": "python",
   "nbconvert_exporter": "python",
   "pygments_lexer": "ipython3",
   "version": "3.7.6"
  }
 },
 "nbformat": 4,
 "nbformat_minor": 2
}
